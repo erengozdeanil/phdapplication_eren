{
 "cells": [
  {
   "cell_type": "code",
   "execution_count": 1,
   "metadata": {},
   "outputs": [],
   "source": [
    "# Import necessary libraries\n",
    "import win32file\n",
    "import win32pipe\n",
    "import time\n",
    "import random\n",
    "import numpy as np"
   ]
  },
  {
   "cell_type": "code",
   "execution_count": 2,
   "metadata": {},
   "outputs": [
    {
     "name": "stdout",
     "output_type": "stream",
     "text": [
      "x (number of indices) is  3 and y (number of values) is  12\n"
     ]
    }
   ],
   "source": [
    "#Generate random array with random values and indices\n",
    "x = random.randint(1, 20)\n",
    "y = random.randint(1,20)\n",
    "print (\"x (number of indices) is \", x, \"and y (number of values) is \", y)\n",
    "my_array = np.random.randint(100, size = (x,y))\n",
    "# print(my_array)\n",
    "\n",
    "#turns the nested listed into bytes (inconclusive attempt)\n",
    "# my_message = my_array.tobytes()\n",
    "# print(my_message)\n",
    "\n",
    "#it's not the point of the assignment but the pipe can only carry strings for now\n",
    "my_message = (\"I cannot work with lists yet either but here is the string version of a random 2d array\"+ str(my_array))"
   ]
  },
  {
   "cell_type": "code",
   "execution_count": 3,
   "metadata": {},
   "outputs": [
    {
     "name": "stdout",
     "output_type": "stream",
     "text": [
      "ret = 0 Received from c#: I cannot transfer 2d arrays yet\n",
      "\n",
      "ret = 0, length = 204 from WriteFile\n",
      "Closing Now...\n"
     ]
    }
   ],
   "source": [
    "pipeName=\"my_pipe\"\n",
    "\n",
    "# Create pipe path\n",
    "pipe_handle = win32pipe.CreateNamedPipe(\n",
    "        r'\\\\.\\pipe\\\\'+pipeName,  # defining pipe name\n",
    "        win32pipe.PIPE_ACCESS_DUPLEX,   #two way\n",
    "        win32pipe.PIPE_TYPE_BYTE | win32pipe.PIPE_READMODE_BYTE | win32pipe.PIPE_WAIT, # defining pipe properties\n",
    "        1, 65536, 65536,\n",
    "        0,\n",
    "        None)\n",
    "\n",
    "# Connect to pipe\n",
    "win32pipe.ConnectNamedPipe(pipe_handle, None)\n",
    "\n",
    "# Read from and Write to Pipe\n",
    "count = 0 \n",
    "#end communication after 1 exchange, otherwise continues. It should be altered to stop after the pipe is empty...\n",
    "while True:\n",
    "    if count == 0:\n",
    "\n",
    "        # Read message from client\n",
    "        ret, read_message = win32file.ReadFile(pipe_handle, 1000) \n",
    "        print(F'{ret = } Received from c#: ' + read_message.decode('utf-8')) #works for strings\n",
    "        # print((list(bytes(read_message)))) #turns bytes to integers but doesnt give the original array\n",
    "        # received = (x.decode('utf-8') for x in read_message) \n",
    "        # print(received, \"is \", type(received))\n",
    "\n",
    "        # Write message to client\n",
    "        ret, length = win32file.WriteFile(pipe_handle, my_message.encode()) \n",
    "        #cannot transfer arrays because writefile command is for strings\n",
    "        print(F'{ret = }, {length = } from WriteFile')\n",
    "\n",
    "        count = count+1\n",
    "    else:\n",
    "   # win32pipe.DisconnectNamedPipe(pipe_handle)\n",
    "            print(\"Closing Now...\")\n",
    "            # time.sleep(2)\n",
    "            win32file.CloseHandle(pipe_handle)\n",
    "            break"
   ]
  },
  {
   "attachments": {},
   "cell_type": "markdown",
   "metadata": {},
   "source": [
    "Notes:\n",
    "\n",
    "Parts of the named pipe script including python & c# is adapted from: \n",
    "\n",
    "https://www.codeproject.com/Questions/5340484/How-to-send-back-data-through-Python-to-Csharp-thr \n",
    "\n",
    "\n",
    "initialise named pipe\n",
    "pipe3 = win32pipe.CreateNamedPipe(\n",
    "    r'\\\\.\\pipe\\ABC', \n",
    "    win32pipe.PIPE_ACCESS_DUPLEX, \n",
    "    win32pipe.PIPE_TYPE_MESSAGE, \n",
    "    win32pipe.PIPE_READMODE_MESSAGE,\n",
    "    win32pipe.PIPE_WAIT,\n",
    "     1, 65536, 65536, 0, None)\n",
    "\n",
    "handle = CreateNamedPipe(pipeName, openMode , pipeMode , nMaxInstances , nOutBufferSize , nInBufferSize , nDefaultTimeOut , sa )\n",
    "\n",
    "https://learn.microsoft.com/en-us/windows/win32/api/winbase/nf-winbase-createnamedpipea\n",
    "\n",
    "pipe_access_dublex = two directional pipe. data can be read and written\n",
    "\n",
    "pipe_type_message = Data is written to the pipe as a stream of messages. \n",
    "    The pipe treats the bytes written during each write operation as a message unit.\n",
    "    The GetLastError function returns ERROR_MORE_DATA when a message is not read completely. \n",
    "    This mode can be used with either PIPE_READMODE_MESSAGE or PIPE_READMODE_BYTE.\n",
    "\n",
    "pipe_read_mode = Data is read from the pipe as a stream of messages.\n",
    "\n",
    "pipe_wait = reading and writing continues until the file is drained\n",
    "\n",
    "pipename should be of the form \\\\.\\pipe\\mypipename\n",
    "\n",
    "connect server to named pipe\n",
    "\n",
    "win32pipe.ConnectNamedPipe(pipe3, None)\n",
    "\n",
    "#end connection\n",
    "\n",
    "win32pipe.DisconnectNamedPipe(pipe3)\n",
    "\n",
    "win32file.CloseHandle(pipe3)\n",
    "\n",
    "#read file\n",
    "\n",
    "resp = win32file.ReadFile(pipe3, 65536)"
   ]
  }
 ],
 "metadata": {
  "kernelspec": {
   "display_name": "earthy",
   "language": "python",
   "name": "python3"
  },
  "language_info": {
   "codemirror_mode": {
    "name": "ipython",
    "version": 3
   },
   "file_extension": ".py",
   "mimetype": "text/x-python",
   "name": "python",
   "nbconvert_exporter": "python",
   "pygments_lexer": "ipython3",
   "version": "3.8.5"
  },
  "orig_nbformat": 4,
  "vscode": {
   "interpreter": {
    "hash": "361376d56ab5bab4898f4bbd0d634c59466054d9f5066175dafc99b2d9382080"
   }
  }
 },
 "nbformat": 4,
 "nbformat_minor": 2
}
